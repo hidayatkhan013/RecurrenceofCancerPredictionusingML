{
  "nbformat": 4,
  "nbformat_minor": 0,
  "metadata": {
    "colab": {
      "name": "DWH-Project.ipynb",
      "provenance": []
    },
    "kernelspec": {
      "name": "python3",
      "display_name": "Python 3"
    }
  },
  "cells": [
    {
      "cell_type": "code",
      "metadata": {
        "id": "kUGElOOBLjBh"
      },
      "source": [
        "import pandas as pd\n",
        "df = pd.read_csv('DWH-Project.csv')"
      ],
      "execution_count": null,
      "outputs": []
    },
    {
      "cell_type": "code",
      "metadata": {
        "id": "sg2Yh-3aL_y8"
      },
      "source": [
        "from sklearn.preprocessing import LabelEncoder\n",
        "LE=LabelEncoder()\n",
        "df['meno-pause']=LE.fit_transform(df['meno-pause'])\n",
        "df['Age']=LE.fit_transform(df['Age'])\n",
        "df['breast']=LE.fit_transform(df['breast'])\n",
        "df['breast-quad']=LE.fit_transform(df['breast-quad'])\n",
        "df['deg-malig']=LE.fit_transform(df['deg-malig'])\n",
        "df['inv-nodes']=LE.fit_transform(df['inv-nodes'])\n",
        "df['irradiate']=LE.fit_transform(df['irradiate'])\n",
        "df['tumer-size']=LE.fit_transform(df['tumer-size'])\n",
        "df['node-caps']=LE.fit_transform(df['node-caps'])\n"
      ],
      "execution_count": null,
      "outputs": []
    },
    {
      "cell_type": "code",
      "metadata": {
        "id": "y-vvwMOoqhSG"
      },
      "source": [
        ""
      ],
      "execution_count": null,
      "outputs": []
    },
    {
      "cell_type": "code",
      "metadata": {
        "colab": {
          "base_uri": "https://localhost:8080/"
        },
        "id": "sfRsiRtMjYPd",
        "outputId": "edba8d79-231e-4b0c-dc15-6eab2d01ffdf"
      },
      "source": [
        "df['inv-nodes']=LE.fit_transform(df['inv-nodes'])\n",
        "X=df[['Age','meno-pause','tumer-size','inv-nodes','node-caps','deg-malig','breast','breast-quad','irradiate']]\n",
        "y=df['class']\n",
        "print(X.head())"
      ],
      "execution_count": null,
      "outputs": [
        {
          "output_type": "stream",
          "text": [
            "   Age  meno-pause  tumer-size  ...  breast  breast-quad  irradiate\n",
            "0    1           2           5  ...       0            2          0\n",
            "1    2           2           3  ...       1            5          0\n",
            "2    2           2           3  ...       0            2          0\n",
            "3    4           0           2  ...       1            3          0\n",
            "4    2           2           0  ...       1            4          0\n",
            "\n",
            "[5 rows x 9 columns]\n"
          ],
          "name": "stdout"
        }
      ]
    },
    {
      "cell_type": "code",
      "metadata": {
        "id": "WHYDJyQkMkBy"
      },
      "source": [
        "from sklearn.model_selection import train_test_split\n",
        "X_train, X_test, y_train, y_test = train_test_split(X, y, test_size = 0.1,random_state = 10)"
      ],
      "execution_count": null,
      "outputs": []
    },
    {
      "cell_type": "code",
      "metadata": {
        "colab": {
          "base_uri": "https://localhost:8080/"
        },
        "id": "RoZJgE-LmNL4",
        "outputId": "6f24e1ac-b7cc-445d-9360-86afad26ce95"
      },
      "source": [
        "from sklearn.ensemble import RandomForestClassifier\n",
        "clf=RandomForestClassifier(n_estimators=200)\n",
        "clf.fit(X_train,y_train)"
      ],
      "execution_count": null,
      "outputs": [
        {
          "output_type": "execute_result",
          "data": {
            "text/plain": [
              "RandomForestClassifier(bootstrap=True, ccp_alpha=0.0, class_weight=None,\n",
              "                       criterion='gini', max_depth=None, max_features='auto',\n",
              "                       max_leaf_nodes=None, max_samples=None,\n",
              "                       min_impurity_decrease=0.0, min_impurity_split=None,\n",
              "                       min_samples_leaf=1, min_samples_split=2,\n",
              "                       min_weight_fraction_leaf=0.0, n_estimators=200,\n",
              "                       n_jobs=None, oob_score=False, random_state=None,\n",
              "                       verbose=0, warm_start=False)"
            ]
          },
          "metadata": {
            "tags": []
          },
          "execution_count": 5
        }
      ]
    },
    {
      "cell_type": "code",
      "metadata": {
        "id": "Cb7JUTaWt02J"
      },
      "source": [
        "y_pred=clf.predict(X_test)"
      ],
      "execution_count": null,
      "outputs": []
    },
    {
      "cell_type": "code",
      "metadata": {
        "colab": {
          "base_uri": "https://localhost:8080/"
        },
        "id": "1ePYdkm-t_85",
        "outputId": "aac2bf73-fef7-4cfd-ee6e-5b3447fe2291"
      },
      "source": [
        "print(y_pred)"
      ],
      "execution_count": null,
      "outputs": [
        {
          "output_type": "stream",
          "text": [
            "['no-recurrence-events' 'recurrence-events' 'no-recurrence-events'\n",
            " 'no-recurrence-events' 'recurrence-events' 'no-recurrence-events'\n",
            " 'no-recurrence-events' 'recurrence-events' 'recurrence-events'\n",
            " 'no-recurrence-events' 'no-recurrence-events' 'no-recurrence-events'\n",
            " 'no-recurrence-events' 'no-recurrence-events' 'recurrence-events'\n",
            " 'recurrence-events' 'no-recurrence-events' 'no-recurrence-events'\n",
            " 'recurrence-events' 'no-recurrence-events' 'no-recurrence-events'\n",
            " 'no-recurrence-events' 'recurrence-events' 'no-recurrence-events'\n",
            " 'no-recurrence-events' 'no-recurrence-events' 'no-recurrence-events'\n",
            " 'no-recurrence-events' 'recurrence-events']\n"
          ],
          "name": "stdout"
        }
      ]
    },
    {
      "cell_type": "code",
      "metadata": {
        "id": "XBVTJjJ3uNrl"
      },
      "source": [
        "from sklearn.metrics import classification_report,confusion_matrix,accuracy_score,plot_roc_curve,plot_confusion_matrix\n"
      ],
      "execution_count": null,
      "outputs": []
    },
    {
      "cell_type": "code",
      "metadata": {
        "colab": {
          "base_uri": "https://localhost:8080/"
        },
        "id": "pIqCauurwoaP",
        "outputId": "d03ba77a-057b-4698-a1e5-27ae2b723cf5"
      },
      "source": [
        "confusion_matrix(y_test,y_pred)"
      ],
      "execution_count": null,
      "outputs": [
        {
          "output_type": "execute_result",
          "data": {
            "text/plain": [
              "array([[18,  3],\n",
              "       [ 2,  6]])"
            ]
          },
          "metadata": {
            "tags": []
          },
          "execution_count": 8
        }
      ]
    },
    {
      "cell_type": "code",
      "metadata": {
        "colab": {
          "base_uri": "https://localhost:8080/"
        },
        "id": "cxp3jiEVxHHy",
        "outputId": "63d293a7-30b9-437d-b9ce-7ec9dd622d00"
      },
      "source": [
        "print(confusion_matrix(y_test, y_pred))\n",
        "print(classification_report(y_test, y_pred))\n",
        "print(accuracy_score(y_test, y_pred))"
      ],
      "execution_count": null,
      "outputs": [
        {
          "output_type": "stream",
          "text": [
            "[[18  3]\n",
            " [ 2  6]]\n",
            "                      precision    recall  f1-score   support\n",
            "\n",
            "no-recurrence-events       0.90      0.86      0.88        21\n",
            "   recurrence-events       0.67      0.75      0.71         8\n",
            "\n",
            "            accuracy                           0.83        29\n",
            "           macro avg       0.78      0.80      0.79        29\n",
            "        weighted avg       0.84      0.83      0.83        29\n",
            "\n",
            "0.8275862068965517\n"
          ],
          "name": "stdout"
        }
      ]
    },
    {
      "cell_type": "code",
      "metadata": {
        "colab": {
          "base_uri": "https://localhost:8080/"
        },
        "id": "SODHmxZZxkt2",
        "outputId": "180678f1-d8b4-41c8-c161-ac4bb3fb487c"
      },
      "source": [
        "accuracy_score(y_test,y_pred)"
      ],
      "execution_count": null,
      "outputs": [
        {
          "output_type": "execute_result",
          "data": {
            "text/plain": [
              "0.8275862068965517"
            ]
          },
          "metadata": {
            "tags": []
          },
          "execution_count": 11
        }
      ]
    },
    {
      "cell_type": "code",
      "metadata": {
        "colab": {
          "base_uri": "https://localhost:8080/",
          "height": 298
        },
        "id": "Hg9NvseVr244",
        "outputId": "943c43b4-4890-4679-a798-395412dacc24"
      },
      "source": [
        "plot_roc_curve(clf, X_test, y_test)"
      ],
      "execution_count": null,
      "outputs": [
        {
          "output_type": "execute_result",
          "data": {
            "text/plain": [
              "<sklearn.metrics._plot.roc_curve.RocCurveDisplay at 0x7fd6ee6dcf98>"
            ]
          },
          "metadata": {
            "tags": []
          },
          "execution_count": 12
        },
        {
          "output_type": "display_data",
          "data": {
            "image/png": "[encoded data removed]",
            "text/plain": [
              "<Figure size 432x288 with 1 Axes>"
            ]
          },
          "metadata": {
            "tags": [],
            "needs_background": "light"
          }
        }
      ]
    },
    {
      "cell_type": "code",
      "metadata": {
        "colab": {
          "base_uri": "https://localhost:8080/",
          "height": 302
        },
        "id": "YkfLQmv8yE-D",
        "outputId": "8c4a01e2-a0a8-4106-d0f8-9bea091afbd2"
      },
      "source": [
        "plot_confusion_matrix(clf, X_test, y_test)"
      ],
      "execution_count": null,
      "outputs": [
        {
          "output_type": "execute_result",
          "data": {
            "text/plain": [
              "<sklearn.metrics._plot.confusion_matrix.ConfusionMatrixDisplay at 0x7fd6ee5e1cf8>"
            ]
          },
          "metadata": {
            "tags": []
          },
          "execution_count": 13
        },
        {
          "output_type": "display_data",
          "data": {
            "image/png": "[encoded data removed]",
            "text/plain": [
              "<Figure size 432x288 with 2 Axes>"
            ]
          },
          "metadata": {
            "tags": [],
            "needs_background": "light"
          }
        }
      ]
    },
    {
      "cell_type": "code",
      "metadata": {
        "colab": {
          "base_uri": "https://localhost:8080/"
        },
        "id": "boHbWAscuq7w",
        "outputId": "028b9cd1-c440-40bf-b932-725282a97c95"
      },
      "source": [
        "print(confusion_matrix(y_test, y_pred))\n",
        "print(classification_report(y_test, y_pred))\n",
        "print(accuracy_score(y_test, y_pred))"
      ],
      "execution_count": null,
      "outputs": [
        {
          "output_type": "stream",
          "text": [
            "[[18  3]\n",
            " [ 2  6]]\n",
            "                      precision    recall  f1-score   support\n",
            "\n",
            "no-recurrence-events       0.90      0.86      0.88        21\n",
            "   recurrence-events       0.67      0.75      0.71         8\n",
            "\n",
            "            accuracy                           0.83        29\n",
            "           macro avg       0.78      0.80      0.79        29\n",
            "        weighted avg       0.84      0.83      0.83        29\n",
            "\n",
            "0.8275862068965517\n"
          ],
          "name": "stdout"
        }
      ]
    },
    {
      "cell_type": "code",
      "metadata": {
        "id": "JkAWQkK-JaRT"
      },
      "source": [
        "X_train, X_test, y_train, y_test = train_test_split(X, y, test_size = 0.1,random_state = 10)"
      ],
      "execution_count": null,
      "outputs": []
    },
    {
      "cell_type": "code",
      "metadata": {
        "colab": {
          "base_uri": "https://localhost:8080/"
        },
        "id": "AohAjivHGDft",
        "outputId": "d9590552-dc5b-4ed1-caa4-dbe9db7b40ee"
      },
      "source": [
        "#KNN\n",
        "from sklearn.neighbors import KNeighborsClassifier\n",
        "import numpy as np\n",
        "KNN_clf=KNeighborsClassifier(n_neighbors=3)\n",
        "KNN_clf.fit(X_test, y_test)\n"
      ],
      "execution_count": null,
      "outputs": [
        {
          "output_type": "execute_result",
          "data": {
            "text/plain": [
              "KNeighborsClassifier(algorithm='auto', leaf_size=30, metric='minkowski',\n",
              "                     metric_params=None, n_jobs=None, n_neighbors=3, p=2,\n",
              "                     weights='uniform')"
            ]
          },
          "metadata": {
            "tags": []
          },
          "execution_count": 58
        }
      ]
    },
    {
      "cell_type": "code",
      "metadata": {
        "id": "Lk5QFTSqJ46p"
      },
      "source": [
        "y_pred=KNN_clf.predict(X_test)"
      ],
      "execution_count": null,
      "outputs": []
    },
    {
      "cell_type": "code",
      "metadata": {
        "colab": {
          "base_uri": "https://localhost:8080/"
        },
        "id": "g69M7HcwJ-To",
        "outputId": "847b0180-61f1-46f8-d617-29ef72f9ce58"
      },
      "source": [
        "print(confusion_matrix(y_test, y_pred))\n",
        "print(classification_report(y_test, y_pred))\n",
        "print(accuracy_score(y_test, y_pred))"
      ],
      "execution_count": null,
      "outputs": [
        {
          "output_type": "stream",
          "text": [
            "[[19  2]\n",
            " [ 3  5]]\n",
            "                      precision    recall  f1-score   support\n",
            "\n",
            "no-recurrence-events       0.86      0.90      0.88        21\n",
            "   recurrence-events       0.71      0.62      0.67         8\n",
            "\n",
            "            accuracy                           0.83        29\n",
            "           macro avg       0.79      0.76      0.78        29\n",
            "        weighted avg       0.82      0.83      0.82        29\n",
            "\n",
            "0.8275862068965517\n"
          ],
          "name": "stdout"
        }
      ]
    },
    {
      "cell_type": "code",
      "metadata": {
        "colab": {
          "base_uri": "https://localhost:8080/",
          "height": 298
        },
        "id": "j84_E5PNKD4r",
        "outputId": "bdaec7ba-5b32-42a5-edad-b1abe2f60a0b"
      },
      "source": [
        "plot_roc_curve(KNN_clf,X_test, y_test)"
      ],
      "execution_count": null,
      "outputs": [
        {
          "output_type": "execute_result",
          "data": {
            "text/plain": [
              "<sklearn.metrics._plot.roc_curve.RocCurveDisplay at 0x7efdd65702e8>"
            ]
          },
          "metadata": {
            "tags": []
          },
          "execution_count": 61
        },
        {
          "output_type": "display_data",
          "data": {
            "image/png": "[encoded data removed]",
            "text/plain": [
              "<Figure size 432x288 with 1 Axes>"
            ]
          },
          "metadata": {
            "tags": [],
            "needs_background": "light"
          }
        }
      ]
    },
    {
      "cell_type": "code",
      "metadata": {
        "colab": {
          "base_uri": "https://localhost:8080/",
          "height": 298
        },
        "id": "fuOvlAXMKJC2",
        "outputId": "ac05fc8e-8c23-478a-964c-d7da2da757cc"
      },
      "source": [
        "plot_confusion_matrix(KNN_clf,X_test, y_test)"
      ],
      "execution_count": null,
      "outputs": [
        {
          "output_type": "execute_result",
          "data": {
            "text/plain": [
              "<sklearn.metrics._plot.confusion_matrix.ConfusionMatrixDisplay at 0x7efdd64b3cf8>"
            ]
          },
          "metadata": {
            "tags": []
          },
          "execution_count": 62
        },
        {
          "output_type": "display_data",
          "data": {
            "image/png": "[encoded data removed]",
            "text/plain": [
              "<Figure size 432x288 with 2 Axes>"
            ]
          },
          "metadata": {
            "tags": [],
            "needs_background": "light"
          }
        }
      ]
    },
    {
      "cell_type": "code",
      "metadata": {
        "id": "czXyro4WJd2Y"
      },
      "source": [
        "df = pd.read_csv('DWH-Project.csv')\n",
        "from sklearn.preprocessing import LabelEncoder\n",
        "LE=LabelEncoder()\n",
        "df['meno-pause']=LE.fit_transform(df['meno-pause'])\n",
        "df['Age']=LE.fit_transform(df['Age'])\n",
        "df['breast']=LE.fit_transform(df['breast'])\n",
        "df['breast-quad']=LE.fit_transform(df['breast-quad'])\n",
        "df['deg-malig']=LE.fit_transform(df['deg-malig'])\n",
        "df['inv-nodes']=LE.fit_transform(df['inv-nodes'])\n",
        "df['irradiate']=LE.fit_transform(df['irradiate'])\n",
        "df['tumer-size']=LE.fit_transform(df['tumer-size'])\n",
        "df['node-caps']=LE.fit_transform(df['node-caps'])\n",
        "X=df[['Age','meno-pause','tumer-size','inv-nodes','node-caps','deg-malig','breast','breast-quad','irradiate']]\n",
        "y=df['class']"
      ],
      "execution_count": null,
      "outputs": []
    },
    {
      "cell_type": "code",
      "metadata": {
        "id": "1WmZrKydV5cn"
      },
      "source": [
        "#Decision tree\n",
        "from sklearn.tree import DecisionTreeClassifier\n",
        "import numpy as np\n",
        "X_train, X_test, y_train, y_test = train_test_split(X, y, test_size = 0.1,random_state = 17)\n"
      ],
      "execution_count": null,
      "outputs": []
    },
    {
      "cell_type": "code",
      "metadata": {
        "colab": {
          "base_uri": "https://localhost:8080/"
        },
        "id": "2Vcb1JoMWP0L",
        "outputId": "8534423e-026c-45bf-eb36-bb4f55b27741"
      },
      "source": [
        "#DT_clf=DecisionTreeClassifier()\n",
        "#df=df.sample(frac=1)\n",
        "DT_clf=DecisionTreeClassifier(criterion=\"entropy\", max_depth=3)\n",
        "#X_train, X_test, y_train, y_test = train_test_split(X, y, test_size = 0.1,random_state = 17)\n",
        "DT_clf.fit(X_train, y_train)"
      ],
      "execution_count": null,
      "outputs": [
        {
          "output_type": "execute_result",
          "data": {
            "text/plain": [
              "DecisionTreeClassifier(ccp_alpha=0.0, class_weight=None, criterion='entropy',\n",
              "                       max_depth=3, max_features=None, max_leaf_nodes=None,\n",
              "                       min_impurity_decrease=0.0, min_impurity_split=None,\n",
              "                       min_samples_leaf=1, min_samples_split=2,\n",
              "                       min_weight_fraction_leaf=0.0, presort='deprecated',\n",
              "                       random_state=None, splitter='best')"
            ]
          },
          "metadata": {
            "tags": []
          },
          "execution_count": 125
        }
      ]
    },
    {
      "cell_type": "code",
      "metadata": {
        "id": "mP0EtbdqWleb"
      },
      "source": [
        "y_pred=DT_clf.predict(X_test)"
      ],
      "execution_count": null,
      "outputs": []
    },
    {
      "cell_type": "code",
      "metadata": {
        "colab": {
          "base_uri": "https://localhost:8080/"
        },
        "id": "kTMEms0sWxpS",
        "outputId": "f852ed49-44f4-4941-de7f-efa42f78b281"
      },
      "source": [
        "print(confusion_matrix(y_test, y_pred))\n",
        "print(classification_report(y_test, y_pred))\n",
        "print(accuracy_score(y_test, y_pred))"
      ],
      "execution_count": null,
      "outputs": [
        {
          "output_type": "stream",
          "text": [
            "[[22  0]\n",
            " [ 5  2]]\n",
            "                      precision    recall  f1-score   support\n",
            "\n",
            "no-recurrence-events       0.81      1.00      0.90        22\n",
            "   recurrence-events       1.00      0.29      0.44         7\n",
            "\n",
            "            accuracy                           0.83        29\n",
            "           macro avg       0.91      0.64      0.67        29\n",
            "        weighted avg       0.86      0.83      0.79        29\n",
            "\n",
            "0.8275862068965517\n"
          ],
          "name": "stdout"
        }
      ]
    },
    {
      "cell_type": "code",
      "metadata": {
        "colab": {
          "base_uri": "https://localhost:8080/",
          "height": 298
        },
        "id": "st3Iv-XJXAym",
        "outputId": "c5dd641d-a06c-4859-f5bd-6797a1bdea77"
      },
      "source": [
        "plot_roc_curve(DT_clf,X_test,y_test)"
      ],
      "execution_count": null,
      "outputs": [
        {
          "output_type": "execute_result",
          "data": {
            "text/plain": [
              "<sklearn.metrics._plot.roc_curve.RocCurveDisplay at 0x7efdea643908>"
            ]
          },
          "metadata": {
            "tags": []
          },
          "execution_count": 110
        },
        {
          "output_type": "display_data",
          "data": {
            "image/png": "[encoded data removed]",
            "text/plain": [
              "<Figure size 432x288 with 1 Axes>"
            ]
          },
          "metadata": {
            "tags": [],
            "needs_background": "light"
          }
        }
      ]
    },
    {
      "cell_type": "code",
      "metadata": {
        "colab": {
          "base_uri": "https://localhost:8080/",
          "height": 298
        },
        "id": "6Mz6b-GqYYjy",
        "outputId": "7a8e856a-ef35-43aa-81cc-ad616949ed8b"
      },
      "source": [
        "plot_confusion_matrix(DT_clf,X_test,y_test)"
      ],
      "execution_count": null,
      "outputs": [
        {
          "output_type": "execute_result",
          "data": {
            "text/plain": [
              "<sklearn.metrics._plot.confusion_matrix.ConfusionMatrixDisplay at 0x7efdd618d2b0>"
            ]
          },
          "metadata": {
            "tags": []
          },
          "execution_count": 128
        },
        {
          "output_type": "display_data",
          "data": {
            "image/png": "[encoded data removed]",
            "text/plain": [
              "<Figure size 432x288 with 2 Axes>"
            ]
          },
          "metadata": {
            "tags": [],
            "needs_background": "light"
          }
        }
      ]
    },
    {
      "cell_type": "code",
      "metadata": {
        "id": "EhEyiccIR4S6"
      },
      "source": [
        "df = pd.read_csv('DWH-Project.csv')\n",
        "from sklearn.preprocessing import LabelEncoder\n",
        "LE=LabelEncoder()\n",
        "df['meno-pause']=LE.fit_transform(df['meno-pause'])\n",
        "df['Age']=LE.fit_transform(df['Age'])\n",
        "df['breast']=LE.fit_transform(df['breast'])\n",
        "df['breast-quad']=LE.fit_transform(df['breast-quad'])\n",
        "df['deg-malig']=LE.fit_transform(df['deg-malig'])\n",
        "df['inv-nodes']=LE.fit_transform(df['inv-nodes'])\n",
        "df['irradiate']=LE.fit_transform(df['irradiate'])\n",
        "df['tumer-size']=LE.fit_transform(df['tumer-size'])\n",
        "df['node-caps']=LE.fit_transform(df['node-caps'])"
      ],
      "execution_count": null,
      "outputs": []
    },
    {
      "cell_type": "code",
      "metadata": {
        "id": "FqcTWw6WqtSw"
      },
      "source": [
        "from sklearn.naive_bayes import GaussianNB\n",
        "X_train, X_test, y_train, y_test = train_test_split(X, y, test_size = 0.1,random_state=8)\n",
        "nb=GaussianNB()"
      ],
      "execution_count": null,
      "outputs": []
    },
    {
      "cell_type": "code",
      "metadata": {
        "colab": {
          "base_uri": "https://localhost:8080/"
        },
        "id": "8VF5YVBWrC5J",
        "outputId": "25176ce4-f4ae-4021-fcef-d6f6d2ee4b69"
      },
      "source": [
        "nb.fit(X_train, y_train)"
      ],
      "execution_count": null,
      "outputs": [
        {
          "output_type": "execute_result",
          "data": {
            "text/plain": [
              "GaussianNB(priors=None, var_smoothing=1e-09)"
            ]
          },
          "metadata": {
            "tags": []
          },
          "execution_count": 130
        }
      ]
    },
    {
      "cell_type": "code",
      "metadata": {
        "id": "LVilB4H8rTF_"
      },
      "source": [
        "y_pred=nb.predict(X_test)"
      ],
      "execution_count": null,
      "outputs": []
    },
    {
      "cell_type": "code",
      "metadata": {
        "colab": {
          "base_uri": "https://localhost:8080/"
        },
        "id": "cCMUepefreWp",
        "outputId": "f676faf2-f9c7-46ce-f99d-6ed383e64ffc"
      },
      "source": [
        "print(confusion_matrix(y_test, y_pred))\n",
        "print(classification_report(y_test, y_pred))\n",
        "print(accuracy_score(y_test, y_pred))"
      ],
      "execution_count": null,
      "outputs": [
        {
          "output_type": "stream",
          "text": [
            "[[18  3]\n",
            " [ 3  5]]\n",
            "                      precision    recall  f1-score   support\n",
            "\n",
            "no-recurrence-events       0.86      0.86      0.86        21\n",
            "   recurrence-events       0.62      0.62      0.62         8\n",
            "\n",
            "            accuracy                           0.79        29\n",
            "           macro avg       0.74      0.74      0.74        29\n",
            "        weighted avg       0.79      0.79      0.79        29\n",
            "\n",
            "0.7931034482758621\n"
          ],
          "name": "stdout"
        }
      ]
    },
    {
      "cell_type": "code",
      "metadata": {
        "colab": {
          "base_uri": "https://localhost:8080/",
          "height": 298
        },
        "id": "PXCBACQArmel",
        "outputId": "7074fd90-8e39-435a-c620-b6cea0d1683e"
      },
      "source": [
        "plot_roc_curve(nb,X_test,y_test)"
      ],
      "execution_count": null,
      "outputs": [
        {
          "output_type": "execute_result",
          "data": {
            "text/plain": [
              "<sklearn.metrics._plot.roc_curve.RocCurveDisplay at 0x7efdd618d438>"
            ]
          },
          "metadata": {
            "tags": []
          },
          "execution_count": 133
        },
        {
          "output_type": "display_data",
          "data": {
            "image/png": "[encoded data removed]",
            "text/plain": [
              "<Figure size 432x288 with 1 Axes>"
            ]
          },
          "metadata": {
            "tags": [],
            "needs_background": "light"
          }
        }
      ]
    },
    {
      "cell_type": "code",
      "metadata": {
        "colab": {
          "base_uri": "https://localhost:8080/",
          "height": 302
        },
        "id": "JduRbpu2rp-5",
        "outputId": "077f1978-5752-49d7-fad3-938905681bd2"
      },
      "source": [
        "plot_confusion_matrix(nb,X_test,y_test)"
      ],
      "execution_count": null,
      "outputs": [
        {
          "output_type": "execute_result",
          "data": {
            "text/plain": [
              "<sklearn.metrics._plot.confusion_matrix.ConfusionMatrixDisplay at 0x7fbc076460f0>"
            ]
          },
          "metadata": {
            "tags": []
          },
          "execution_count": 203
        },
        {
          "output_type": "display_data",
          "data": {
            "image/png": "[encoded data removed]",
            "text/plain": [
              "<Figure size 432x288 with 2 Axes>"
            ]
          },
          "metadata": {
            "tags": [],
            "needs_background": "light"
          }
        }
      ]
    }
  ]
}